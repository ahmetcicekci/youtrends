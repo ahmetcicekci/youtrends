{
 "cells": [
  {
   "cell_type": "code",
   "execution_count": 4,
   "id": "17bf6b90",
   "metadata": {},
   "outputs": [],
   "source": [
    "import boto3\n",
    "import os\n",
    "import librosa\n",
    "import numpy as np"
   ]
  },
  {
   "cell_type": "code",
   "execution_count": 16,
   "id": "747d3157",
   "metadata": {},
   "outputs": [],
   "source": [
    "def download_first_mp3_from_s3(bucket_name, prefix, download_dir=\"downloads\"):\n",
    "    s3 = boto3.client(\"s3\")\n",
    "\n",
    "    response = s3.list_objects_v2(Bucket=bucket_name, Prefix=prefix)\n",
    "    contents = response.get(\"Contents\", [])\n",
    "    mp3_keys = [obj[\"Key\"] for obj in contents if obj[\"Key\"].endswith(\".mp3\")]\n",
    "\n",
    "    if not mp3_keys:\n",
    "        raise ValueError(\"No MP3 files found under the specified prefix.\")\n",
    "\n",
    "    first_key = mp3_keys[1]\n",
    "    file_name = os.path.basename(first_key)\n",
    "\n",
    "    os.makedirs(download_dir, exist_ok=True)\n",
    "    download_path = os.path.join(download_dir, file_name)\n",
    "\n",
    "    s3.download_file(bucket_name, first_key, download_path)\n",
    "    print(f\"Downloaded {first_key} to {download_path}\")\n",
    "\n",
    "    return download_path"
   ]
  },
  {
   "cell_type": "code",
   "execution_count": 17,
   "id": "403b7222",
   "metadata": {},
   "outputs": [
    {
     "name": "stdout",
     "output_type": "stream",
     "text": [
      "Downloaded music-data/audio/-1xAi_Q6a8g.mp3 to downloads/-1xAi_Q6a8g.mp3\n"
     ]
    }
   ],
   "source": [
    "downloaded_path = download_first_mp3_from_s3(\n",
    "    bucket_name=\"youtrends-project\", prefix=\"music-data/audio/\"\n",
    ")"
   ]
  },
  {
   "cell_type": "code",
   "execution_count": 18,
   "id": "dbdb6372",
   "metadata": {},
   "outputs": [],
   "source": [
    "def extract_audio_features(file_path):\n",
    "    y, sr = librosa.load(file_path, sr=None)\n",
    "\n",
    "    features = {\n",
    "        \"tempo\": librosa.feature.rhythm.tempo(y=y, sr=sr)[0],\n",
    "        \"zcr_mean\": np.mean(librosa.feature.zero_crossing_rate(y=y)),\n",
    "        \"rmse_mean\": np.mean(librosa.feature.rms(y=y)),\n",
    "        \"spectral_centroid_mean\": np.mean(librosa.feature.spectral_centroid(y=y, sr=sr)),\n",
    "        \"spectral_bandwidth_mean\": np.mean(librosa.feature.spectral_bandwidth(y=y, sr=sr)),\n",
    "        \"spectral_rolloff_mean\": np.mean(librosa.feature.spectral_rolloff(y=y, sr=sr)),\n",
    "        \"mfccs_mean\": np.mean(librosa.feature.mfcc(y=y, sr=sr), axis=1).tolist(),\n",
    "        \"chroma_stft_mean\": np.mean(librosa.feature.chroma_stft(y=y, sr=sr), axis=1).tolist(),\n",
    "    }\n",
    "\n",
    "    return features"
   ]
  },
  {
   "cell_type": "code",
   "execution_count": 19,
   "id": "a6b162b0",
   "metadata": {},
   "outputs": [
    {
     "data": {
      "text/plain": [
       "{'tempo': np.float64(139.6748310810811),\n",
       " 'zcr_mean': np.float64(0.048357983290752936),\n",
       " 'rmse_mean': np.float32(0.088420145),\n",
       " 'spectral_centroid_mean': np.float64(2053.3206260208153),\n",
       " 'spectral_bandwidth_mean': np.float64(2580.4237527445835),\n",
       " 'spectral_rolloff_mean': np.float64(3963.1447666393583),\n",
       " 'mfccs_mean': [-243.8916015625,\n",
       "  145.49668884277344,\n",
       "  -18.005151748657227,\n",
       "  32.52787780761719,\n",
       "  5.8710503578186035,\n",
       "  12.21762466430664,\n",
       "  -3.9086289405822754,\n",
       "  -5.55466365814209,\n",
       "  3.7589497566223145,\n",
       "  -2.9381661415100098,\n",
       "  -5.607466220855713,\n",
       "  1.3901548385620117,\n",
       "  0.6910752058029175,\n",
       "  -1.84996497631073,\n",
       "  0.18747229874134064,\n",
       "  1.150999903678894,\n",
       "  4.210670471191406,\n",
       "  -1.5306581258773804,\n",
       "  0.3984512388706207,\n",
       "  1.0817126035690308],\n",
       " 'chroma_stft_mean': [0.3960314095020294,\n",
       "  0.3623977303504944,\n",
       "  0.3214225769042969,\n",
       "  0.3531979024410248,\n",
       "  0.30506858229637146,\n",
       "  0.339432030916214,\n",
       "  0.2972325384616852,\n",
       "  0.35863080620765686,\n",
       "  0.3870934844017029,\n",
       "  0.30509820580482483,\n",
       "  0.3365394175052643,\n",
       "  0.310659795999527]}"
      ]
     },
     "execution_count": 19,
     "metadata": {},
     "output_type": "execute_result"
    }
   ],
   "source": [
    "features = extract_audio_features(downloaded_path)\n",
    "features"
   ]
  },
  {
   "cell_type": "code",
   "execution_count": 7,
   "id": "2fd517c7",
   "metadata": {},
   "outputs": [
    {
     "data": {
      "text/plain": [
       "{'tempo': np.float64(84.72079918032787),\n",
       " 'zcr_mean': np.float64(0.04984508874642069),\n",
       " 'rmse_mean': np.float32(0.2839137),\n",
       " 'spectral_centroid_mean': np.float64(2618.5035010027054),\n",
       " 'spectral_bandwidth_mean': np.float64(3314.8723855080407),\n",
       " 'spectral_rolloff_mean': np.float64(5718.998061322742),\n",
       " 'mfccs_mean': [-116.3820571899414,\n",
       "  137.0737762451172,\n",
       "  -20.79558753967285,\n",
       "  39.9806022644043,\n",
       "  -6.7852702140808105,\n",
       "  35.407413482666016,\n",
       "  -17.11289405822754,\n",
       "  12.039874076843262,\n",
       "  -11.978132247924805,\n",
       "  1.1444486379623413,\n",
       "  -7.692205905914307,\n",
       "  3.447439432144165,\n",
       "  -3.252932548522949,\n",
       "  -7.237246036529541,\n",
       "  -4.366272449493408,\n",
       "  -10.73857593536377,\n",
       "  -0.09413838386535645,\n",
       "  -6.213627815246582,\n",
       "  -2.6523969173431396,\n",
       "  -9.325313568115234],\n",
       " 'chroma_stft_mean': [0.3173564374446869,\n",
       "  0.3300778865814209,\n",
       "  0.4707897901535034,\n",
       "  0.5560809373855591,\n",
       "  0.3803911805152893,\n",
       "  0.32415711879730225,\n",
       "  0.31585127115249634,\n",
       "  0.42702096700668335,\n",
       "  0.3409738838672638,\n",
       "  0.30128994584083557,\n",
       "  0.3529992401599884,\n",
       "  0.29320254921913147]}"
      ]
     },
     "execution_count": 7,
     "metadata": {},
     "output_type": "execute_result"
    }
   ],
   "source": [
    "features"
   ]
  },
  {
   "cell_type": "code",
   "execution_count": null,
   "id": "696c1385",
   "metadata": {},
   "outputs": [],
   "source": []
  }
 ],
 "metadata": {
  "kernelspec": {
   "display_name": "env-youtube",
   "language": "python",
   "name": "python3"
  },
  "language_info": {
   "codemirror_mode": {
    "name": "ipython",
    "version": 3
   },
   "file_extension": ".py",
   "mimetype": "text/x-python",
   "name": "python",
   "nbconvert_exporter": "python",
   "pygments_lexer": "ipython3",
   "version": "3.9.6"
  }
 },
 "nbformat": 4,
 "nbformat_minor": 5
}
